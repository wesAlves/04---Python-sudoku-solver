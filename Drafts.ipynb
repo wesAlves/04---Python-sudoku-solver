{
 "cells": [
  {
   "cell_type": "code",
   "execution_count": 50,
   "id": "ea079757",
   "metadata": {},
   "outputs": [
    {
     "name": "stdout",
     "output_type": "stream",
     "text": [
      "0\n",
      "0\n",
      "0\n",
      "0\n",
      "5\n",
      "0\n",
      "0\n",
      "0\n",
      "0\n"
     ]
    }
   ],
   "source": [
    "#3x3 with 5 in the middle cell\n",
    "\n",
    "line1 = [0] *3\n",
    "line2 = [0] *3\n",
    "line3 = [0] *3\n",
    "\n",
    "line2[1] = 5\n",
    "\n",
    "my_sudoku_arr = line1 + line2 + line3\n",
    "\n",
    "# print(my_sudoku_arr)\n",
    "\n",
    "for i in my_sudoku_arr:\n",
    "    print(i)\n",
    "\n",
    "# for i in line1:\n",
    "#     print(i)\n"
   ]
  },
  {
   "cell_type": "code",
   "execution_count": 59,
   "id": "96d7ca50",
   "metadata": {},
   "outputs": [
    {
     "name": "stdout",
     "output_type": "stream",
     "text": [
      "0\n",
      "0\n",
      "0\n",
      "0\n",
      "0\n",
      "0\n",
      "0\n",
      "0\n"
     ]
    }
   ],
   "source": [
    "for i in my_sudoku_arr:\n",
    "    n = 5\n",
    "    if n != i:\n",
    "        print(i)\n",
    "#     else:\n",
    "#         print(n)"
   ]
  },
  {
   "cell_type": "code",
   "execution_count": 74,
   "id": "69d2af63",
   "metadata": {},
   "outputs": [
    {
     "name": "stdout",
     "output_type": "stream",
     "text": [
      "[1]\n",
      "[1, 2]\n",
      "[1, 2, 3]\n",
      "[1, 2, 3, 4]\n",
      "[1, 2, 3, 4, 5]\n",
      "[1, 2, 3, 4, 5, 6]\n",
      "[1, 2, 3, 4, 5, 6, 7]\n",
      "[1, 2, 3, 4, 5, 6, 7, 8]\n",
      "[1, 2, 3, 4, 5, 6, 7, 8, 9]\n"
     ]
    }
   ],
   "source": [
    "n=[]\n",
    "\n",
    "for i in my_sudoku_arr:\n",
    "    for b in range(1, 10):\n",
    "        if b not in n:\n",
    "            n.append(b)\n",
    "            print(n)\n",
    "#         print(n)\n",
    "#         n.append(i)\n",
    "#         print(n)"
   ]
  },
  {
   "cell_type": "code",
   "execution_count": 75,
   "id": "048ab08a",
   "metadata": {},
   "outputs": [
    {
     "name": "stdout",
     "output_type": "stream",
     "text": [
      "[1, 2, 3]\n",
      "[1, 2, 3, 4, 5, 6, 7, 8, 9]\n"
     ]
    }
   ],
   "source": [
    "def write_numbers(*args):\n",
    "\n",
    "    seted_numbers = list(args)\n",
    "    print(seted_numbers)\n",
    "\n",
    "    for i in my_sudoku_arr:\n",
    "        for b in range(1, 10):\n",
    "            if b not in seted_numbers:\n",
    "                seted_numbers.append(b)\n",
    "\n",
    "    print(seted_numbers)\n",
    "\n",
    "\n",
    "write_numbers(1, 2, 3)"
   ]
  },
  {
   "cell_type": "code",
   "execution_count": 80,
   "id": "8dbd8a44",
   "metadata": {},
   "outputs": [
    {
     "name": "stdout",
     "output_type": "stream",
     "text": [
      "{'col1': 0, 'col2': 5, 'col3': 0}\n"
     ]
    }
   ],
   "source": [
    "line1 = {'col1': 0, 'col2': 0, 'col3': 0}\n",
    "line2 = {'col1': 0, 'col2': 0, 'col3': 0}\n",
    "line3 = {'col1': 0, 'col2': 0, 'col3': 0}\n",
    "\n",
    "line2['col2'] = 5\n",
    "\n",
    "print(line2)"
   ]
  },
  {
   "cell_type": "code",
   "execution_count": 83,
   "id": "4d1c5310",
   "metadata": {},
   "outputs": [
    {
     "name": "stdout",
     "output_type": "stream",
     "text": [
      "{'row1': {'col1': 0, 'col2': 0, 'col3': 0}}\n"
     ]
    }
   ],
   "source": [
    "\n",
    "row1 = {'col1': 0, 'col2': 0, 'col3': 0}\n",
    "row2 = {'col1': 0, 'col2': 0, 'col3': 0}\n",
    "row3 = {'col1': 0, 'col2': 0, 'col3': 0}\n",
    "\n",
    "row2['col2'] = 5\n",
    "\n",
    "# print(line2)\n",
    "\n",
    "my_sudoku_arr = {\"row1\": row1}\n",
    "\n",
    "print(my_sudoku_arr)"
   ]
  },
  {
   "cell_type": "code",
   "execution_count": 96,
   "id": "446030fa",
   "metadata": {},
   "outputs": [
    {
     "name": "stdout",
     "output_type": "stream",
     "text": [
      "0\n",
      "1\n",
      "2\n",
      "[0, 1, 2] [0, 1, 2]\n",
      "0 0\n",
      "1 1\n",
      "2 2\n"
     ]
    }
   ],
   "source": [
    "# define an sudoku table as 3x3 and 5 in the middle\n",
    "\n",
    "row1 = {'col1': 0, 'col2': 0, 'col3': 0}\n",
    "row2 = {'col1': 0, 'col2': 0, 'col3': 0}\n",
    "row3 = {'col1': 0, 'col2': 0, 'col3': 0}\n",
    "\n",
    "# row2['col2'] = 5\n",
    "\n",
    "my_sudoku_arr = {\n",
    "    \"row1\": row1,\n",
    "    \"row2\": row2,\n",
    "    \"row3\": row3,\n",
    "}\n",
    "\n",
    "# print(my_sudoku_arr)\n",
    "\n",
    "my_table_row = [0] * len(my_sudoku_arr)\n",
    "my_table_coloumn = [0] * len(my_sudoku_arr)\n",
    "\n",
    "# print(my_table_row, my_table_coloumn)\n",
    "\n",
    "my_table = []\n",
    "\n",
    "for i in range(len(my_sudoku_arr)):\n",
    "    my_table_row[i] = i\n",
    "    my_table_coloumn[i] = i\n",
    "    print(i)\n",
    "\n",
    "print(my_table_row, my_table_coloumn)\n",
    "\n",
    "for i, j in zip(my_table_row, my_table_coloumn):\n",
    "    print(i, j)\n",
    "\n",
    "# write_numbers(1, 2, 3)\n",
    "\n",
    "\n",
    "# fisrt group 3x3 is a list, and it has 3 positions at line1(col1, col2, col3), line2(col1, col2, col3) and line3(col1, col2, col3)\n"
   ]
  }
 ],
 "metadata": {
  "kernelspec": {
   "display_name": "Python 3 (ipykernel)",
   "language": "python",
   "name": "python3"
  },
  "language_info": {
   "codemirror_mode": {
    "name": "ipython",
    "version": 3
   },
   "file_extension": ".py",
   "mimetype": "text/x-python",
   "name": "python",
   "nbconvert_exporter": "python",
   "pygments_lexer": "ipython3",
   "version": "3.10.0"
  }
 },
 "nbformat": 4,
 "nbformat_minor": 5
}
