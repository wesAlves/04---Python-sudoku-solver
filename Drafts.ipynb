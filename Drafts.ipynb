{
 "cells": [
  {
   "cell_type": "code",
   "execution_count": 50,
   "id": "f1b20dc0",
   "metadata": {},
   "outputs": [
    {
     "name": "stdout",
     "output_type": "stream",
     "text": [
      "0\n",
      "0\n",
      "0\n",
      "0\n",
      "5\n",
      "0\n",
      "0\n",
      "0\n",
      "0\n"
     ]
    }
   ],
   "source": [
    "#3x3 with 5 in the middle cell\n",
    "\n",
    "line1 = [0] *3\n",
    "line2 = [0] *3\n",
    "line3 = [0] *3\n",
    "\n",
    "line2[1] = 5\n",
    "\n",
    "my_sudoku_arr = line1 + line2 + line3\n",
    "\n",
    "# print(my_sudoku_arr)\n",
    "\n",
    "for i in my_sudoku_arr:\n",
    "    print(i)\n",
    "\n",
    "# for i in line1:\n",
    "#     print(i)\n"
   ]
  },
  {
   "cell_type": "code",
   "execution_count": 59,
   "id": "e3a05746",
   "metadata": {},
   "outputs": [
    {
     "name": "stdout",
     "output_type": "stream",
     "text": [
      "0\n",
      "0\n",
      "0\n",
      "0\n",
      "0\n",
      "0\n",
      "0\n",
      "0\n"
     ]
    }
   ],
   "source": [
    "for i in my_sudoku_arr:\n",
    "    n = 5\n",
    "    if n != i:\n",
    "        print(i)\n",
    "#     else:\n",
    "#         print(n)"
   ]
  },
  {
   "cell_type": "code",
   "execution_count": 74,
   "id": "87764c58",
   "metadata": {},
   "outputs": [
    {
     "name": "stdout",
     "output_type": "stream",
     "text": [
      "[1]\n",
      "[1, 2]\n",
      "[1, 2, 3]\n",
      "[1, 2, 3, 4]\n",
      "[1, 2, 3, 4, 5]\n",
      "[1, 2, 3, 4, 5, 6]\n",
      "[1, 2, 3, 4, 5, 6, 7]\n",
      "[1, 2, 3, 4, 5, 6, 7, 8]\n",
      "[1, 2, 3, 4, 5, 6, 7, 8, 9]\n"
     ]
    }
   ],
   "source": [
    "n=[]\n",
    "\n",
    "for i in my_sudoku_arr:\n",
    "    for b in range(1, 10):\n",
    "        if b not in n:\n",
    "            n.append(b)\n",
    "            print(n)\n",
    "#         print(n)\n",
    "#         n.append(i)\n",
    "#         print(n)"
   ]
  },
  {
   "cell_type": "code",
   "execution_count": 75,
   "id": "5774275f",
   "metadata": {},
   "outputs": [
    {
     "name": "stdout",
     "output_type": "stream",
     "text": [
      "[1, 2, 3]\n",
      "[1, 2, 3, 4, 5, 6, 7, 8, 9]\n"
     ]
    }
   ],
   "source": [
    "def write_numbers(*args):\n",
    "\n",
    "    seted_numbers = list(args)\n",
    "    print(seted_numbers)\n",
    "\n",
    "    for i in my_sudoku_arr:\n",
    "        for b in range(1, 10):\n",
    "            if b not in seted_numbers:\n",
    "                seted_numbers.append(b)\n",
    "\n",
    "    print(seted_numbers)\n",
    "\n",
    "\n",
    "write_numbers(1, 2, 3)"
   ]
  },
  {
   "cell_type": "code",
   "execution_count": null,
   "id": "b3d1f195",
   "metadata": {},
   "outputs": [],
   "source": []
  }
 ],
 "metadata": {
  "kernelspec": {
   "display_name": "Python 3 (ipykernel)",
   "language": "python",
   "name": "python3"
  },
  "language_info": {
   "codemirror_mode": {
    "name": "ipython",
    "version": 3
   },
   "file_extension": ".py",
   "mimetype": "text/x-python",
   "name": "python",
   "nbconvert_exporter": "python",
   "pygments_lexer": "ipython3",
   "version": "3.10.0"
  }
 },
 "nbformat": 4,
 "nbformat_minor": 5
}
